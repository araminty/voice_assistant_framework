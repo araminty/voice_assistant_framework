{
 "cells": [
  {
   "cell_type": "code",
   "execution_count": 2,
   "metadata": {
    "ExecuteTime": {
     "end_time": "2019-11-10T23:27:09.894151Z",
     "start_time": "2019-11-10T23:27:09.795139Z"
    }
   },
   "outputs": [
    {
     "name": "stdout",
     "output_type": "stream",
     "text": [
      "importing Jupyter notebook from referencer.ipynb\n"
     ]
    }
   ],
   "source": [
    "from NBfinder import NotebookFinder\n",
    "import sys\n",
    "sys.meta_path.append(NotebookFinder())\n",
    "from referencer import TransitionReferencer\n",
    "\n",
    "class Transition(TransitionReferencer):\n",
    "    \n",
    "    def __init__(self, label=None, parent=None, source=None, target=None, intents=[]):\n",
    "        TransitionReferencer.__init__(self)\n",
    "        self.container=None\n",
    "        self.ID = id(self)\n",
    "#         print('Transition check point')\n",
    "#         print('Current label:', label)\n",
    "#         print('Creating', label, 'parent:', parent.name, 'source:', str(source.label), 'target:', str(target.label))\n",
    "        \n",
    "        if parent and label and (label in parent.transition_data['label']):\n",
    "            self.parent = None\n",
    "            self.container=None\n",
    "        else:\n",
    "            self.parent = parent\n",
    "            self.container=parent.transition_data\n",
    "            \n",
    "        if not label:\n",
    "            label='default'\n",
    "        self.label=label\n",
    "        self.source=parent.state(source)\n",
    "        self.target=parent.state(target)\n",
    "        print(str(self.target))\n",
    "        self.intents=intents\n",
    "#         print('Transition check point7')\n",
    "        \n",
    "    def add_intents(self, intents):\n",
    "        if not intents:\n",
    "            return self\n",
    "        if type(intents)==str:\n",
    "            intents = [ intents ]\n",
    "        self.intents += list(set(intents)-set(self.intents))\n",
    "        return self\n",
    "    \n",
    "    def __str__(self):\n",
    "        target=\"None\"\n",
    "        if self.target:\n",
    "            target=\"No Name\"\n",
    "            if self.target.label:\n",
    "                target = self.target.label\n",
    "        return f\"Transition->{target}|{self.label}|ID:{id(self)}\"\n",
    "    \n",
    "    \n",
    "    def _ipython_display_(self):\n",
    "        print(str(self))     \n",
    "    \n",
    "    def add_intents(self, intents):\n",
    "        # set operation here\n",
    "        return self"
   ]
  },
  {
   "cell_type": "code",
   "execution_count": null,
   "metadata": {},
   "outputs": [],
   "source": []
  },
  {
   "cell_type": "code",
   "execution_count": null,
   "metadata": {},
   "outputs": [],
   "source": []
  },
  {
   "cell_type": "code",
   "execution_count": null,
   "metadata": {},
   "outputs": [],
   "source": []
  }
 ],
 "metadata": {
  "kernelspec": {
   "display_name": "Python 3",
   "language": "python",
   "name": "python3"
  },
  "language_info": {
   "codemirror_mode": {
    "name": "ipython",
    "version": 3
   },
   "file_extension": ".py",
   "mimetype": "text/x-python",
   "name": "python",
   "nbconvert_exporter": "python",
   "pygments_lexer": "ipython3",
   "version": "3.7.5"
  }
 },
 "nbformat": 4,
 "nbformat_minor": 2
}
