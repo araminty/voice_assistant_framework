{
 "cells": [
  {
   "cell_type": "code",
   "execution_count": 1,
   "metadata": {
    "ExecuteTime": {
     "end_time": "2019-11-12T03:00:44.509706Z",
     "start_time": "2019-11-12T03:00:43.300418Z"
    }
   },
   "outputs": [
    {
     "name": "stdout",
     "output_type": "stream",
     "text": [
      "importing Jupyter notebook from state.ipynb\n",
      "importing Jupyter notebook from preprocessor.ipynb\n",
      "importing Jupyter notebook from referencer.ipynb\n",
      "importing Jupyter notebook from transition.ipynb\n"
     ]
    }
   ],
   "source": [
    "from NBfinder import NotebookFinder\n",
    "import sys\n",
    "sys.meta_path.append(NotebookFinder())\n",
    "from state import State, state_defaults, model_factory, model_yrotcaf\n",
    "from transition import Transition\n",
    "\n",
    "from sklearn.svm import SVC\n",
    "from math import sin, cos\n",
    "from numpy import array\n",
    "from intent import Intent\n",
    "from textwrap import TextWrapper\n",
    "import pandas as pd\n",
    "\n",
    "\n",
    "\n",
    "class VoiceAssistant:\n",
    "    def __init__(self, name=\"Innominate\", corpus=None):\n",
    "        self.name=name\n",
    "        self.state_data = { 'object_id':[], 'object':[], 'label':[], 'x':[], 'y':[], 'model':[], 'transitions':[],\n",
    "                        'preprocessor':[], 'slots':[], 'triggers':[], 'segmenter':[] }\n",
    "        self.transition_data = { 'object_id':[], 'object':[], 'label':[], 'x':[], 'y':[], 'theta':[], 'length':[],\n",
    "                                'source':[], 'target': [], 'intents': [], 'triggers': [] }\n",
    "        self.intent_data = {  'object_id':[], 'object':[], 'label':[], 'index':[], 'object':[]}\n",
    "        self.utterances = array([])\n",
    "        self.state('root', x=0., y=0.)\n",
    "        if not corpus:\n",
    "            self.corpus = pd.read_csv('utterances.csv', sep=',', index_col=0)\n",
    "\n",
    "\n",
    "#     def _new_row(self, container):\n",
    "#         for value in container.value():\n",
    "#             value.append(None)\n",
    "\n",
    "    def _new_point(self):\n",
    "        \"\"\"Creates new x and y coordinates.\"\"\"\n",
    "        i = len(self.state_data['object'])\n",
    "        radius = i//8+1.0\n",
    "        # offset the alternating \"rings\"\n",
    "        angle = 2*3.1415/8.0 * i + i//8*0.2\n",
    "        return sin(angle)*radius, cos(angle*radius)\n",
    "\n",
    "    def state(self, state=None, **kwargs):\n",
    "        \"\"\"Lookup a state in the state graph either as a string or by passing it as an object.  If it's not there, either create it or connect it.\n",
    "        New states can be specified by strings (and keyword arguments)\"\"\"\n",
    "        if state==None:\n",
    "            state='default'        \n",
    "        if type(state)==str:\n",
    "            if state in self.state_data['label']:\n",
    "                i = self.state_data['label'].index(state)\n",
    "                return self.state_data['object'][i]\n",
    "\n",
    "            if not('x' in kwargs and 'y' in kwargs):\n",
    "                x, y = self._new_point()\n",
    "                kwargs['x']=x\n",
    "                kwargs['y']=y\n",
    "            return State(state, self, **kwargs)\n",
    "        elif type(state)==State:\n",
    "            if state.parent==self:\n",
    "                return state\n",
    "            elif state.container:\n",
    "                return state._make_copy(self)\n",
    "            else:\n",
    "                return state.attach(self)\n",
    "\n",
    "    def transition(self, transition, source=None, target=None, **kwargs):\n",
    "        \n",
    "        if type(transition)==str:\n",
    "            print('state graph checkpoint')\n",
    "            print('Creating', transition, 'parent:', str(self.name), 'source:', )\n",
    "            if transition in self.transition_data['label']:\n",
    "                i = self.transition_data['label'].index(transition)\n",
    "                return self.transition_data['object'][i]\n",
    "            else:\n",
    "                return Transition(transition, self, source, target, **kwargs)\n",
    "        if type(transition)==Transition:\n",
    "            if transition.label in self.transition_data['label']:\n",
    "                i = self.transition_data['label'].index(transition.label)\n",
    "                return self.transition_data['object'][i]\n",
    "            if not source:\n",
    "                source = transition.source\n",
    "            if not target:\n",
    "                source = transition.target\n",
    "            return Transition(transition, self, source, target, **kwargs)\n",
    "            \n",
    "    def _load_intent(self, label):\n",
    "        index = array([])\n",
    "        if label in self.corpus['intent'].unique():\n",
    "            utterances = self.corpus[self.corpus['intent']==value]['utterance'].unique()\n",
    "        for utterance in utterances:\n",
    "            if utterance in self.utterances:\n",
    "                index.append(self.utterances.where(self.utterances==utterance))\n",
    "            else:\n",
    "                self.utterances.append(utterance)\n",
    "                index.append(len(self.utterances))\n",
    "        self.intents.append(Intent(self, label, array(indices)))\n",
    "\n",
    "    def _add_utterances(self, utterances):\n",
    "        index = array([])\n",
    "        for utterance in utterances:\n",
    "            if utterance not in self.utterances:\n",
    "                self.utterances.append(utterance)\n",
    "                index.append(len(self.utterances))\n",
    "            else:\n",
    "                index.append(self.utterances.where(self.utterances==utterance))\n",
    "        return index\n",
    "\n",
    "    def _new_transition(self, source, target, label=None):\n",
    "        if label==None:\n",
    "            label = source.label+\"_to_\"+target.label\n",
    "\n",
    "    @property\n",
    "    def states(self):\n",
    "        return self.state_data['object']\n",
    "         \n",
    "    def __str__(self):\n",
    "        readable = f\"State Graph: {self.name}| ID:{id(self)%10000}\"\n",
    "        for state in self.states:\n",
    "            readable+=TextWrapper(initial_indent='\\n\\t', subsequent_indent='\\t\\t').fill(str(state))\n",
    "        return readable\n",
    "    def _ipython_display_(self):\n",
    "        print(self.__str__())"
   ]
  },
  {
   "cell_type": "code",
   "execution_count": 2,
   "metadata": {
    "ExecuteTime": {
     "end_time": "2019-11-12T03:00:44.529715Z",
     "start_time": "2019-11-12T03:00:44.510708Z"
    }
   },
   "outputs": [
    {
     "name": "stdout",
     "output_type": "stream",
     "text": [
      "state graph checkpoint\n",
      "Creating root_to_new_state parent: Innominate source:\n",
      "State:new_state| ID:2346323531912\n",
      "State Graph: Innominate| ID:4728\n",
      "\tState:root| ID:2346318971528\n",
      "\t\tTransition->new_state|root_to_new_state|ID:2346318972168\n",
      "\tState:fizzbuzz| ID:2346321033800\n",
      "\tState:new_state| ID:2346323531912\n"
     ]
    }
   ],
   "source": []
  },
  {
   "cell_type": "code",
   "execution_count": 3,
   "metadata": {
    "ExecuteTime": {
     "end_time": "2019-11-12T03:00:44.537717Z",
     "start_time": "2019-11-12T03:00:44.530715Z"
    }
   },
   "outputs": [
    {
     "data": {
      "text/plain": [
       "[<transition.Transition at 0x2224b824508>]"
      ]
     },
     "execution_count": 3,
     "metadata": {},
     "output_type": "execute_result"
    }
   ],
   "source": [
    "list(finie.state('root').transitions)"
   ]
  },
  {
   "cell_type": "code",
   "execution_count": null,
   "metadata": {},
   "outputs": [],
   "source": []
  }
 ],
 "metadata": {
  "kernelspec": {
   "display_name": "Python 3",
   "language": "python",
   "name": "python3"
  },
  "language_info": {
   "codemirror_mode": {
    "name": "ipython",
    "version": 3
   },
   "file_extension": ".py",
   "mimetype": "text/x-python",
   "name": "python",
   "nbconvert_exporter": "python",
   "pygments_lexer": "ipython3",
   "version": "3.7.5"
  }
 },
 "nbformat": 4,
 "nbformat_minor": 2
}
