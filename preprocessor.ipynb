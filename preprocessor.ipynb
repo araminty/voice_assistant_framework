{
 "cells": [
  {
   "cell_type": "code",
   "execution_count": 1,
   "metadata": {},
   "outputs": [],
   "source": [
    "import re\n",
    "from sklearn.feature_extraction.text import CountVectorizer\n",
    "\n",
    "vectorizer_factory = {\n",
    "    \"count\": CountVectorizer,\n",
    "}\n",
    "\n",
    "class Preprocessor:\n",
    "    default_removed =  \"[^a-zA-Z0-9 -]\"\n",
    "    def __init__(self, vectorizer=CountVectorizer, removed='default'):\n",
    "        self.vectorizer=CountVectorizer()\n",
    "        if removed=='default':\n",
    "            self.removed=self.default_removed\n",
    "        if type(vectorizer)==str:\n",
    "            if vectorizer in vectorizer_factory:\n",
    "                self.vectorizer==vectorizer_factory[vectorizer]\n",
    "            else:\n",
    "                raise TypeError(\"Supported vectorizer strings are {}.\".format(vectorizer_factory.keys()))\n",
    "\n",
    "    def remove_punctuation(self, words):\n",
    "        return re.sub(self.removed, '', words)\n",
    "\n",
    "    def tokenizer(self, words):\n",
    "        return self.vectorizer.transform(words)\n",
    "    \n",
    "    def number_blanker(self, words):\n",
    "        words = re.sub(\"[0-9]\", \" # \", words)\n",
    "\n",
    "    def __call__(self, words):\n",
    "        words = self.punctuation_remover(words)\n",
    "        words = self.number_blanker(words)\n",
    "        words = self.tokenizer(words)\n",
    "        return words"
   ]
  },
  {
   "cell_type": "code",
   "execution_count": null,
   "metadata": {},
   "outputs": [],
   "source": []
  }
 ],
 "metadata": {
  "kernelspec": {
   "display_name": "Python 3",
   "language": "python",
   "name": "python3"
  },
  "language_info": {
   "codemirror_mode": {
    "name": "ipython",
    "version": 3
   },
   "file_extension": ".py",
   "mimetype": "text/x-python",
   "name": "python",
   "nbconvert_exporter": "python",
   "pygments_lexer": "ipython3",
   "version": "3.7.5"
  }
 },
 "nbformat": 4,
 "nbformat_minor": 2
}
