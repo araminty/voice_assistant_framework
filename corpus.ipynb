{
 "cells": [
  {
   "cell_type": "code",
   "execution_count": 1,
   "metadata": {},
   "outputs": [],
   "source": [
    "from preprocessor import Preprocessor\n",
    "from collections.abc import Iterable\n",
    "\n",
    "class Corpus:\n",
    "    \"\"\"Corpus is the storage of a set of utterances.  \\\n",
    "        The vocabularies are gathered at this level.  \\\n",
    "        An intent selects a subset of data from the corpus.\n",
    "        \n",
    "        A corpus could be a child of a corpus, containing \n",
    "        some but not all of the utterances.\"\"\"\n",
    "    \n",
    "    \n",
    "    default_removed =  \"[^a-zA-Z0-9 -]\"\n",
    "\n",
    "    def __init__(self, utterances):\n",
    "        self.utterances=utterances\n",
    "        try:\n",
    "            if type(utterances) != str and isinstance(utterance, Iterable):\n",
    "                    self.utterances=' '.join(utterances)\n",
    "        except:\n",
    "            pass\n",
    "        if type(self.utterances)!=str:\n",
    "            raise TypeError(\"Corpus needs to receive string or iterable of strings input\")\n",
    "\n",
    "    def _all_utterances(self):\n",
    "        \"\"\"merge all the utterances from all the intents\"\"\"\n",
    "\n",
    "    def punctuation_remover(self, words, removed=default_removed):\n",
    "        return re.sub(removed, '', words)\n",
    "\n",
    "    def tokenizer(self, words):\n",
    "        return self.vectorizer.transform(words)\n",
    "    \n",
    "    def number_remover(self, words):\n",
    "        words = re.sub(\"[0-9]\", \" # \", words)\n",
    "        \n",
    "    def __call__(self, words):\n",
    "        words = self.punctuation_remover(words)\n",
    "        words = self.number_remover(words)\n",
    "        words = self.tokenizer(words)\n",
    "        return words"
   ]
  },
  {
   "cell_type": "code",
   "execution_count": null,
   "metadata": {},
   "outputs": [],
   "source": []
  }
 ],
 "metadata": {
  "kernelspec": {
   "display_name": "Python 3",
   "language": "python",
   "name": "python3"
  },
  "language_info": {
   "codemirror_mode": {
    "name": "ipython",
    "version": 3
   },
   "file_extension": ".py",
   "mimetype": "text/x-python",
   "name": "python",
   "nbconvert_exporter": "python",
   "pygments_lexer": "ipython3",
   "version": "3.7.5"
  }
 },
 "nbformat": 4,
 "nbformat_minor": 2
}
