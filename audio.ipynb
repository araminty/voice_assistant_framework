{
 "cells": [
  {
   "cell_type": "code",
   "execution_count": null,
   "metadata": {},
   "outputs": [],
   "source": [
    "import requests\n",
    "import speech_recognition as SR\n",
    "\n",
    "\n",
    "\n",
    "recognizer = SR.Recognizer()\n",
    "google = recognizer.recognize_google\n",
    "sphinx = recognizer.recognize_sphinx\n",
    "mic = SR.Microphone()\n",
    "\n",
    "def audio_input():\n",
    "    with mic as source:\n",
    "        print('speak')\n",
    "        audio = recognizer.listen(source, timeout=2, phrase_time_limit=15)\n",
    "        print('done')\n",
    "\n",
    "    try:\n",
    "        r = requests.head('http://example.com/', timeout=1.0)\n",
    "        if r.ok:\n",
    "            return google(audio)\n",
    "        else:\n",
    "            print('no internet')\n",
    "    except:\n",
    "        pass\n",
    "    \n",
    "audio_input()"
   ]
  }
 ],
 "metadata": {
  "kernelspec": {
   "display_name": "Python 3",
   "language": "python",
   "name": "python3"
  },
  "language_info": {
   "codemirror_mode": {
    "name": "ipython",
    "version": 3
   },
   "file_extension": ".py",
   "mimetype": "text/x-python",
   "name": "python",
   "nbconvert_exporter": "python",
   "pygments_lexer": "ipython3",
   "version": "3.7.5"
  }
 },
 "nbformat": 4,
 "nbformat_minor": 2
}
